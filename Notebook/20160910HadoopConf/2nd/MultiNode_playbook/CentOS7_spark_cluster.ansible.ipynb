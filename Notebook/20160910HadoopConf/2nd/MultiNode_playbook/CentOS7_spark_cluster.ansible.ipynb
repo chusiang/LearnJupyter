{
 "cells": [
  {
   "cell_type": "markdown",
   "metadata": {},
   "source": [
    "#  Setting up Spark single node with local disk\n",
    "\n",
    "## OS: CentOS 7\n",
    "\n",
    "## Prerequisites\n",
    " * Your SSH Key to remote host.\n",
    " * Remote IP address or FQDN.\n",
    " * username in remote host.\n",
    "\n",
    "### Check SSH Key working directory\n",
    "\n",
    "### You could use shift + Enter to run the cell block\n",
    "### If In [ ] display [ * ], that mean it's working now, please wait a moment."
   ]
  },
  {
   "cell_type": "code",
   "execution_count": null,
   "metadata": {
    "collapsed": false
   },
   "outputs": [],
   "source": [
    "print('working direory is:') \n",
    "!pwd\n",
    "print()\n",
    "print('Try to create ./sshkey directory if we do not have one')\n",
    "![ -d ./sshkey ] || mkdir ./sshkey\n",
    "print()\n",
    "print('Check current directory')\n",
    "!ls -F ."
   ]
  },
  {
   "cell_type": "markdown",
   "metadata": {},
   "source": [
    "# Please upload your SSH key to ./sshkey in the jupyter homepage\n",
    " * like *.pem or *.rsa\n",
    "\n",
    "## The SSH Key could be delete in last block.\n",
    "\n",
    "### After you upload the SSH Key, we will change file permission to SSH Keys."
   ]
  },
  {
   "cell_type": "code",
   "execution_count": null,
   "metadata": {
    "collapsed": true
   },
   "outputs": [],
   "source": [
    "!chmod 600 ./sshkey/*"
   ]
  },
  {
   "cell_type": "markdown",
   "metadata": {},
   "source": [
    "# Please edit ansible.conf ( under playbook directory )\n",
    "## please modify \n",
    "* remote_user = yourUserName\n",
    "* private_key_file = yourPrivateKeyPath\n",
    "### for example\n",
    "#### remote_user = maxhuang\n",
    "#### private_key_file = ./sshkey/id_rsa"
   ]
  },
  {
   "cell_type": "markdown",
   "metadata": {},
   "source": [
    "# Please edit hosts ( under playbook directory )\n",
    "## Please add your host alias and IP / FQDN\n",
    "* cenic_slave ansible_ssh_host=pcvm2-7.instageni.cenic.net\n",
    " * cenic_slave is \"host alias\"\n",
    " * ansible_ssh_host is \"your host FQDN or IP address\"\n"
   ]
  },
  {
   "cell_type": "markdown",
   "metadata": {},
   "source": [
    "# Test ping to your host"
   ]
  },
  {
   "cell_type": "code",
   "execution_count": null,
   "metadata": {
    "collapsed": false
   },
   "outputs": [],
   "source": [
    "!ansible all -m ping"
   ]
  },
  {
   "cell_type": "markdown",
   "metadata": {},
   "source": [
    "# If test ping is success, we could start to deploy it."
   ]
  },
  {
   "cell_type": "markdown",
   "metadata": {
    "collapsed": true
   },
   "source": [
    "# Install java with open jdk"
   ]
  },
  {
   "cell_type": "code",
   "execution_count": null,
   "metadata": {
    "collapsed": false
   },
   "outputs": [],
   "source": [
    "!ansible all  -s -m yum -a 'name=java-1.7.0-openjdk-devel'"
   ]
  },
  {
   "cell_type": "markdown",
   "metadata": {},
   "source": [
    "# Install wget"
   ]
  },
  {
   "cell_type": "code",
   "execution_count": null,
   "metadata": {
    "collapsed": false
   },
   "outputs": [],
   "source": [
    "!ansible all  -s -m yum -a 'name=wget'"
   ]
  },
  {
   "cell_type": "markdown",
   "metadata": {},
   "source": [
    "# Install scala"
   ]
  },
  {
   "cell_type": "code",
   "execution_count": null,
   "metadata": {
    "collapsed": false
   },
   "outputs": [],
   "source": [
    "!ansible all  -s -m shell -a 'wget http://www.scala-lang.org/files/archive/scala-2.10.1.tgz'"
   ]
  },
  {
   "cell_type": "code",
   "execution_count": null,
   "metadata": {
    "collapsed": false
   },
   "outputs": [],
   "source": [
    "!ansible all  -s -m shell -a 'tar xvf scala-2.10.1.tgz'"
   ]
  },
  {
   "cell_type": "code",
   "execution_count": null,
   "metadata": {
    "collapsed": false
   },
   "outputs": [],
   "source": [
    "!ansible all  -s -m shell -a 'mv scala-2.10.1 /usr/lib'"
   ]
  },
  {
   "cell_type": "code",
   "execution_count": null,
   "metadata": {
    "collapsed": false
   },
   "outputs": [],
   "source": [
    "!ansible all  -s -m shell -a 'ln -s /usr/lib/scala-2.10.1/  /usr/lib/scala'"
   ]
  },
  {
   "cell_type": "code",
   "execution_count": null,
   "metadata": {
    "collapsed": false
   },
   "outputs": [],
   "source": [
    "!ansible all  -m lineinfile -a 'dest=~/.bashrc line=\"export PATH=$PATH:/usr/lib/scala/bin\"'"
   ]
  },
  {
   "cell_type": "markdown",
   "metadata": {},
   "source": [
    "# Download spark with pre-build hadoop"
   ]
  },
  {
   "cell_type": "code",
   "execution_count": null,
   "metadata": {
    "collapsed": false
   },
   "outputs": [],
   "source": [
    "!ansible all   -m shell -a 'wget    http://archive.apache.org/dist/spark/spark-1.4.0/spark-1.4.0-bin-hadoop2.6.tgz'"
   ]
  },
  {
   "cell_type": "code",
   "execution_count": null,
   "metadata": {
    "collapsed": false
   },
   "outputs": [],
   "source": [
    "!ansible all  -m shell -a 'tar zxvf spark-*.tgz'"
   ]
  },
  {
   "cell_type": "code",
   "execution_count": null,
   "metadata": {
    "collapsed": false
   },
   "outputs": [],
   "source": [
    "!ansible all   -m shell -a 'mv  ~/spark*/  ~/spark'"
   ]
  },
  {
   "cell_type": "markdown",
   "metadata": {},
   "source": [
    "# Testing jps"
   ]
  },
  {
   "cell_type": "code",
   "execution_count": null,
   "metadata": {
    "collapsed": false
   },
   "outputs": [],
   "source": [
    "!ansible all   -m command -a 'jps'"
   ]
  },
  {
   "cell_type": "markdown",
   "metadata": {},
   "source": [
    "==== If you want to try each node for single spark ====\n",
    "==== You can use ssh to login remote server and change your directory to spark folder and run spark-shell now ====\n",
    "\n",
    "In the remote server\n",
    "\n",
    "\\$ cd spark*\n",
    "\n",
    "\\$ bin/spark-shell\n",
    "\n",
    "==== Your SparkUI will be port :4040, just open your browser, test localhost:4040 in URL"
   ]
  },
  {
   "cell_type": "code",
   "execution_count": null,
   "metadata": {
    "collapsed": false
   },
   "outputs": [],
   "source": [
    "!ansible master -m shell -a \"ssh-keygen  -N  ''  -t dsa  -q  -f  ~/.ssh/id_dsa\""
   ]
  },
  {
   "cell_type": "code",
   "execution_count": null,
   "metadata": {
    "collapsed": true
   },
   "outputs": [],
   "source": [
    "![ -d ./files ] || mkdir ./files"
   ]
  },
  {
   "cell_type": "code",
   "execution_count": null,
   "metadata": {
    "collapsed": false
   },
   "outputs": [],
   "source": [
    "!ansible master -m fetch -a 'src=.ssh/id_dsa.pub  dest=files/ flat=yes'"
   ]
  },
  {
   "cell_type": "code",
   "execution_count": null,
   "metadata": {
    "collapsed": false
   },
   "outputs": [],
   "source": [
    "!ansible slaves -m copy -a 'src=files/id_dsa.pub dest=/tmp/id_dsa.pub'"
   ]
  },
  {
   "cell_type": "code",
   "execution_count": null,
   "metadata": {
    "collapsed": false
   },
   "outputs": [],
   "source": [
    "!ansible slaves -m shell -a 'mkdir ~/.ssh'"
   ]
  },
  {
   "cell_type": "code",
   "execution_count": null,
   "metadata": {
    "collapsed": false
   },
   "outputs": [],
   "source": [
    "!ansible slaves -m shell -a 'cat /tmp/id_dsa.pub >> ./.ssh/authorized_keys'"
   ]
  },
  {
   "cell_type": "code",
   "execution_count": null,
   "metadata": {
    "collapsed": false
   },
   "outputs": [],
   "source": [
    "!ansible master -m copy -a 'src=files/sshconfig dest=./.ssh/config mode=600'"
   ]
  },
  {
   "cell_type": "code",
   "execution_count": null,
   "metadata": {
    "collapsed": false
   },
   "outputs": [],
   "source": [
    "!ansible-playbook start.yml"
   ]
  },
  {
   "cell_type": "markdown",
   "metadata": {},
   "source": [
    "# Your SparkUI will be port :8080, \n",
    "## just open your browser, test http://masterIP:8080 in URL"
   ]
  },
  {
   "cell_type": "markdown",
   "metadata": {},
   "source": [
    "## For secuirty reason, you could use below block to delete your ssh Key"
   ]
  },
  {
   "cell_type": "code",
   "execution_count": null,
   "metadata": {
    "collapsed": true
   },
   "outputs": [],
   "source": [
    "!rm ./sshkey/*"
   ]
  }
 ],
 "metadata": {
  "kernelspec": {
   "display_name": "Python 3",
   "language": "python",
   "name": "python3"
  },
  "language_info": {
   "codemirror_mode": {
    "name": "ipython",
    "version": 3
   },
   "file_extension": ".py",
   "mimetype": "text/x-python",
   "name": "python",
   "nbconvert_exporter": "python",
   "pygments_lexer": "ipython3",
   "version": "3.4.3"
  }
 },
 "nbformat": 4,
 "nbformat_minor": 0
}
